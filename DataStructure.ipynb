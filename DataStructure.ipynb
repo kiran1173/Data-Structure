{
  "nbformat": 4,
  "nbformat_minor": 0,
  "metadata": {
    "colab": {
      "provenance": []
    },
    "kernelspec": {
      "name": "python3",
      "display_name": "Python 3"
    },
    "language_info": {
      "name": "python"
    }
  },
  "cells": [
    {
      "cell_type": "markdown",
      "source": [
        "# **1.What are data structures, and why are they important ?**\n",
        "  \n",
        "   * A data structure is a way of organizing, storing, and managing data so it can be used efficiently.\n",
        "   Think of it like a container or blueprint that tells the computer how to arrange and access information.\n",
        "\n",
        "**Why are Data Structures Important?**\n",
        "\n",
        "* Efficiency – Choosing the right data structure makes programs faster and use less memory.\n",
        "\n",
        "* Better Problem Solving – Many problems (shortest path, scheduling, sorting, etc.) can only be solved effectively with the right structure.\n",
        "\n",
        "* Scalability – Helps handle large amounts of data in real-world applications (databases, operating systems, search engines).\n",
        "\n",
        "* Foundation for Algorithms – Most algorithms (sorting, searching, graph traversal) depend on data structures.\n",
        "\n",
        "* Interview & Career Importance – Data structures + algorithms are the backbone of coding interviews for software jobs.\n"
      ],
      "metadata": {
        "id": "a_fTmk5oWk8A"
      }
    },
    {
      "cell_type": "markdown",
      "source": [
        "#**2.Explain the difference between mutable and immutable data types with examples**\n",
        "\n",
        "**Mutable Data Types:**\n",
        "\n",
        "* Mutable data types are those that can be changed or modified after they are created. In Python, examples include lists, dictionaries, and sets. When you update a mutable object, the changes happen in the same memory location, meaning a new object is not created.\n",
        "\n",
        "**Immutable Data Types:**\n",
        "\n",
        "* Immutable data types are those that cannot be changed once they are created. In Python, strings, tuples, integers, and floats are immutable. When you attempt to modify them, instead of altering the original object, a new object is created in memory while the old one remains unchanged.\n"
      ],
      "metadata": {
        "id": "1j9o__EBYdAJ"
      }
    },
    {
      "cell_type": "markdown",
      "source": [],
      "metadata": {
        "id": "1nLiOdLfYQYd"
      }
    },
    {
      "cell_type": "code",
      "execution_count": 2,
      "metadata": {
        "colab": {
          "base_uri": "https://localhost:8080/"
        },
        "id": "QXA85OeGWivV",
        "outputId": "415c26ab-2263-41fc-a9f3-b993064c63be"
      },
      "outputs": [
        {
          "output_type": "stream",
          "name": "stdout",
          "text": [
            "[10, 2, 3]\n"
          ]
        }
      ],
      "source": [
        "# Mutable\n",
        "numbers = [1, 2, 3]\n",
        "numbers[0] = 10   # changing first element\n",
        "print(numbers)"
      ]
    },
    {
      "cell_type": "code",
      "source": [
        "# Immutable\n",
        "name = \"Kiran\"\n",
        "new_name = name.replace(\"K\", \"V\")\n",
        "print(new_name)\n",
        "print(name)"
      ],
      "metadata": {
        "colab": {
          "base_uri": "https://localhost:8080/"
        },
        "id": "ctZ87fLTaC6Z",
        "outputId": "0d12f1b8-0d2b-4a77-bd69-61aa10e1b0b4"
      },
      "execution_count": 3,
      "outputs": [
        {
          "output_type": "stream",
          "name": "stdout",
          "text": [
            "Viran\n",
            "Kiran\n"
          ]
        }
      ]
    },
    {
      "cell_type": "markdown",
      "source": [
        "# **3.What are the main differences between lists and tuples in Python?**\n",
        "\n",
        "**Main Differences Between Lists and Tuples in Python**\n",
        "\n",
        " **Mutability:**\n",
        "\n",
        "* List: Mutable → you can change, add, or remove elements after creation.\n",
        "\n",
        "* Tuple: Immutable → once created, elements cannot be modified.\n",
        "\n",
        "**Syntax:**\n",
        "\n",
        "* List: Defined using square brackets [ ].\n",
        "\n",
        "* Tuple: Defined using parentheses ( ).\n",
        "\n",
        "**Performance:**\n",
        "\n",
        "* List: Slightly slower because it allows modifications (extra memory overhead).\n",
        "\n",
        "* Tuple: Faster than lists because they are fixed and lightweight.\n",
        "\n",
        "**Use Case:**\n",
        "\n",
        "* List: Best for collections of items that may change (e.g., shopping cart).\n",
        "\n",
        "* Tuple: Best for fixed collections of items that shouldn’t change (e.g., coordinates, days of the week).\n",
        "\n",
        "**Methods:**\n",
        "\n",
        "* List: Has many built-in methods like append(), remove(), sort().\n",
        "\n",
        "* Tuple: Has very few methods, mainly count() and index().\n"
      ],
      "metadata": {
        "id": "maiNDCDFapCr"
      }
    },
    {
      "cell_type": "markdown",
      "source": [
        "# **4. Describe how dictionaries store data.**\n",
        "\n",
        "**A dictionary in Python stores data in the form of key–value pairs. Each item has two parts:**\n",
        "\n",
        "* A key (must be unique and immutable, like string, number, or tuple)\n",
        "\n",
        "* A value (can be any type, mutable or immutable).\n",
        "\n",
        "**Internal Storage Mechanism**\n",
        "\n",
        "* Dictionaries use a hash table internally.\n",
        "\n",
        "* When you create a key, Python computes a hash value (a fixed-size number) for it.\n",
        "\n",
        "* This hash value decides the position (index) in the dictionary where the key–value pair will be stored.\n",
        "\n",
        "* When you later look up a key, Python rehashes it and directly jumps to the stored location → making lookup very fast (on average O(1) time complexity)."
      ],
      "metadata": {
        "id": "Zge2_zbmbiVF"
      }
    },
    {
      "cell_type": "markdown",
      "source": [
        "# **5. Why might you use a set instead of a list in Python?**\n",
        "\n",
        "* A set in Python is used instead of a list when you need to store only unique elements and don’t care about order. Unlike lists, sets automatically remove duplicates and provide much faster membership testing (checking if an item exists) because they are implemented using hash tables.\n",
        "\n",
        " This makes sets more efficient than lists for large collections when frequent lookups are required. Additionally, sets support useful mathematical operations like union, intersection, and difference, which lists do not directly offer. On the other hand, lists are better if you need to maintain order or allow duplicates, but if uniqueness and speed are priorities, sets are the better choice."
      ],
      "metadata": {
        "id": "D2pJqUXmdg4y"
      }
    },
    {
      "cell_type": "markdown",
      "source": [
        "# **6. What is a string in Python, and how is it different from a list?**\n",
        "\n",
        "* A string in Python is a sequence of characters enclosed in single quotes (' '), double quotes (\" \"), or triple quotes (''' ''' or \"\"\" \"\"\"). Strings are immutable, meaning once created, they cannot be changed directly—any modification creates a new string. For example, \"Hello\" is a string made of characters H, e, l, l, o.\n",
        "\n",
        "* A list, on the other hand, is a collection of elements (which can be numbers, strings, or even other lists) enclosed in square brackets [ ]. Unlike strings, lists are mutable, so their elements can be added, removed, or changed after creation. For example, [1, 2, 3] is a list, and you can update it to [1, 5, 3] by modifying an element."
      ],
      "metadata": {
        "id": "bFcHkz6qe8P8"
      }
    },
    {
      "cell_type": "markdown",
      "source": [
        "# **7. How do tuples ensure data integrity in Python?**\n",
        "\n",
        "* In Python, tuples ensure data integrity because they are immutable, meaning once a tuple is created, its elements cannot be changed, added, or removed. This immutability guarantees that the stored data remains constant and secure, preventing accidental or unauthorized modifications during program execution. For example, if you store configuration settings, fixed coordinates, or database keys in a tuple, you can be sure they will remain unchanged throughout the program. This makes tuples very useful when you want to protect important data from being altered and ensure consistency and reliability"
      ],
      "metadata": {
        "id": "I_UIZWl1fRFU"
      }
    },
    {
      "cell_type": "markdown",
      "source": [
        "# **8. What is a hash table, and how does it relate to dictionaries in Python?**\n",
        "\n",
        "* A hash table is a data structure that stores data in the form of key–value pairs and uses a hashing function to quickly find the location of a key in memory. The hashing function converts the key (like a string or number) into a unique number called a hash value, which determines where the corresponding value is stored in the table. This makes operations like insertion, deletion, and lookup very fast, usually in O(1) time on average.\n",
        "\n",
        "* In Python, a dictionary is implemented using a hash table. When you create a dictionary and store data as key–value pairs, Python internally computes the hash of each key and places it in the table at a specific position. Later, when you try to access a value using its key, Python re-computes the hash of that key and directly retrieves the value without scanning through the whole dictionary. This is why dictionary lookups in Python are much faster than searching through a list.\n"
      ],
      "metadata": {
        "id": "C1feWzanfi1Z"
      }
    },
    {
      "cell_type": "markdown",
      "source": [
        "# **9. Can lists contain different data types in Python?**\n",
        "\n",
        "* Yes, lists in Python can contain different data types. A list is a flexible and mutable collection that allows storing elements of various types in the same sequence. For example, you can have integers, strings, floats, booleans, and even other lists all together in one list.\n"
      ],
      "metadata": {
        "id": "ilXO9fmFf-GX"
      }
    },
    {
      "cell_type": "code",
      "source": [
        "# Exapmle\n",
        "mixed_list = [10, \"Kiran\", 3.14, True, [1, 2, 3]]\n",
        "print(mixed_list)"
      ],
      "metadata": {
        "colab": {
          "base_uri": "https://localhost:8080/"
        },
        "id": "VFj1mDd-gWpr",
        "outputId": "a8e4c6f9-43cd-49cd-d95b-8afe0c8221b4"
      },
      "execution_count": 4,
      "outputs": [
        {
          "output_type": "stream",
          "name": "stdout",
          "text": [
            "[10, 'Kiran', 3.14, True, [1, 2, 3]]\n"
          ]
        }
      ]
    },
    {
      "cell_type": "markdown",
      "source": [
        "# **10. Explain why strings are immutable in Python.**\n",
        "\n",
        "* Strings in Python are immutable, meaning once a string is created, it cannot be changed. If you try to modify a string (like changing a character or concatenating), Python actually creates a new string object in memory instead of altering the original one.\n",
        "\n",
        "**The main reasons for this immutability are:**\n",
        "\n",
        "* Memory Efficiency (Hashing):\n",
        "Strings are often used as keys in dictionaries. Since keys must remain constant to ensure correct hash values, making strings immutable guarantees that their hash will never change.\n",
        "\n",
        "* Security:\n",
        "Because strings are widely used (e.g., file paths, URLs, database queries), immutability prevents accidental or malicious modifications, which adds a layer of safety.\n",
        "\n",
        "* Thread-Safety:\n",
        "Since multiple parts of a program can use the same string at the same time, immutability ensures that one part of the program can’t change the string while another is using it.\n",
        "\n",
        "* Simplicity:\n",
        "Immutable objects are easier to reason about since their values remain consistent throughout the program."
      ],
      "metadata": {
        "id": "qYFwcXnRgfXp"
      }
    },
    {
      "cell_type": "markdown",
      "source": [
        "# **11. What advantages do dictionaries offer over lists for certain tasks?**\n",
        "\n",
        "**Fast Lookups:**\n",
        "\n",
        "* Lists require scanning through elements one by one (O(n) time).\n",
        "\n",
        "* Dictionaries use hash tables, so lookups by key are very fast (average O(1) time).\n",
        "\n",
        "**Key–Value Pair Storage:**\n",
        "\n",
        "* Lists store only values with numeric indexes.\n",
        "\n",
        "* Dictionaries let you use meaningful keys (like \"name\", \"age\") instead of relying on positions.\n",
        "\n",
        "**No Need to Remember Indexes:**\n",
        "\n",
        "* With lists, you must know the index of the value.\n",
        "\n",
        "* With dictionaries, you just use the key directly.\n",
        "\n",
        "**Better Data Representation:**\n",
        "\n",
        "* Dictionaries are more natural when working with structured data (like records, objects, configurations).\n",
        "\n",
        "**Uniqueness of Keys:**\n",
        "\n",
        "* Dictionaries ensure that keys are unique, which helps avoid duplicate identifiers."
      ],
      "metadata": {
        "id": "WEPp5vI2hFqY"
      }
    },
    {
      "cell_type": "markdown",
      "source": [
        "# **12. Describe a scenario where using a tuple would be preferable over a list?**\n",
        "\n",
        "* A tuple would be preferable over a list in scenarios where you need to store a fixed collection of values that should not change throughout the program. Since tuples are immutable, they protect data from accidental modification and ensure data integrity."
      ],
      "metadata": {
        "id": "5ZF0I_RYiMmy"
      }
    },
    {
      "cell_type": "markdown",
      "source": [
        "# **13. How do sets handle duplicate values in Python?**\n",
        "\n",
        "* In Python, sets automatically remove duplicate values because they are designed to store only unique elements. When you create a set or add items to it, Python checks each element’s hash value and ensures that only one instance of each unique value is kept. If you try to insert a duplicate, it is simply ignored without causing an error.\n"
      ],
      "metadata": {
        "id": "tgK0HbrmisMG"
      }
    },
    {
      "cell_type": "code",
      "source": [
        "# Example\n",
        "numbers = {1, 2, 2, 3, 4, 4, 5}\n",
        "print(numbers)"
      ],
      "metadata": {
        "colab": {
          "base_uri": "https://localhost:8080/"
        },
        "id": "3_3ZV_hAi85B",
        "outputId": "04d66e3d-2b75-477c-ddf5-a2d3e59c541e"
      },
      "execution_count": 5,
      "outputs": [
        {
          "output_type": "stream",
          "name": "stdout",
          "text": [
            "{1, 2, 3, 4, 5}\n"
          ]
        }
      ]
    },
    {
      "cell_type": "markdown",
      "source": [
        "# **14.  How does the “in” keyword work differently for lists and dictionaries?**\n",
        "\n",
        "* For Lists:\n",
        "The in keyword checks whether a value exists in the list by scanning each element one by one (linear search).\n",
        "\n",
        "* For Dictionaries:\n",
        "The in keyword checks whether a key exists in the dictionary, not the value."
      ],
      "metadata": {
        "id": "xIpYbmwpjFok"
      }
    },
    {
      "cell_type": "code",
      "source": [
        "# For List\n",
        "numbers = [1, 2, 3, 4]\n",
        "print(3 in numbers)   # True\n",
        "print(5 in numbers)   # False\n",
        "\n",
        "# For Dictionaries\n",
        "student = {\"name\": \"Kiran\", \"age\": 21}\n",
        "print(\"name\" in student)   # True (key exists)\n",
        "print(\"Kiran\" in student)  # False (values not checked)"
      ],
      "metadata": {
        "colab": {
          "base_uri": "https://localhost:8080/"
        },
        "id": "Ezy7kyPsjo3f",
        "outputId": "46d85c3f-5839-44be-dcc0-6bada5ebcc8d"
      },
      "execution_count": 6,
      "outputs": [
        {
          "output_type": "stream",
          "name": "stdout",
          "text": [
            "True\n",
            "False\n",
            "True\n",
            "False\n"
          ]
        }
      ]
    },
    {
      "cell_type": "markdown",
      "source": [
        "# **15. Can you modify the elements of a tuple? Explain why or why not?**\n",
        "\n",
        "* No, you cannot modify the elements of a tuple in Python because tuples are immutable. Once a tuple is created, its elements are fixed and cannot be changed, added, or removed. This immutability ensures that the data inside a tuple remains constant, which is useful when you want to store values that should not be altered (like coordinates, dates, or constants).\n",
        "\n",
        "* However, if a tuple contains a mutable object (like a list), you cannot replace the list itself, but you can modify the contents of that list:\n",
        "\n",
        "* Here, the tuple structure remains unchanged, but the list inside it (which is mutable) can be modified."
      ],
      "metadata": {
        "id": "Tj4vfzI7j8eC"
      }
    },
    {
      "cell_type": "code",
      "source": [
        "my_tuple = (10, 20, 30)\n",
        "# my_tuple[0] = 100   # ❌ Error: 'tuple' object does not support item assignment\n",
        "\n",
        "mixed_tuple = (1, [2, 3], 4)\n",
        "mixed_tuple[1].append(5)\n",
        "print(mixed_tuple)   # (1, [2, 3, 5], 4)"
      ],
      "metadata": {
        "colab": {
          "base_uri": "https://localhost:8080/"
        },
        "id": "M7OlKse4kPJe",
        "outputId": "4d649dc4-48c5-40a4-b9cb-8a7f5510ad9e"
      },
      "execution_count": 9,
      "outputs": [
        {
          "output_type": "stream",
          "name": "stdout",
          "text": [
            "(1, [2, 3, 5], 4)\n"
          ]
        }
      ]
    },
    {
      "cell_type": "markdown",
      "source": [
        "# **16. What is a nested dictionary, and give an example of its use case?**\n",
        "\n",
        "* A nested dictionary in Python is a dictionary inside another dictionary. In other words, each key can map not just to a simple value, but to another dictionary. This allows us to represent hierarchical or structured data.\n",
        "\n",
        "**Use Case of Nested Dictionaries**\n",
        "\n",
        "* Storing structured data → e.g., student records, employee details, product catalogs.\n",
        "\n",
        "* JSON-like data → APIs often return data in nested dictionary format.\n",
        "\n",
        "* Configuration settings → multi-level options (like database configs with host, port, credentials).\n",
        "\n",
        "**Here:**\n",
        "\n",
        "* The outer dictionary has student IDs (\"101\", \"102\", \"103\") as keys.\n",
        "\n",
        "* Each student ID maps to another dictionary with details (name, age, course)."
      ],
      "metadata": {
        "id": "TVniOxdgkp5J"
      }
    },
    {
      "cell_type": "code",
      "source": [
        "# Example\n",
        "students = {\n",
        "    \"101\": {\"name\": \"Kiran\", \"age\": 21, \"course\": \"Python\"},\n",
        "    \"102\": {\"name\": \"Aditi\", \"age\": 22, \"course\": \"Data Science\"},\n",
        "    \"103\": {\"name\": \"Ravi\", \"age\": 20, \"course\": \"AI\"}\n",
        "}\n",
        "\n",
        "print(students[\"101\"][\"name\"])   # Output: Kiran\n",
        "print(students[\"102\"][\"course\"]) # Output: Data Science"
      ],
      "metadata": {
        "colab": {
          "base_uri": "https://localhost:8080/"
        },
        "id": "XtrOk8JilkWm",
        "outputId": "c3798493-c8ff-4718-8362-7dda68ac0999"
      },
      "execution_count": 10,
      "outputs": [
        {
          "output_type": "stream",
          "name": "stdout",
          "text": [
            "Kiran\n",
            "Data Science\n"
          ]
        }
      ]
    },
    {
      "cell_type": "markdown",
      "source": [
        "# **17. Describe the time complexity of accessing elements in a dictionary?**\n",
        "\n",
        "* In Python, a dictionary is implemented using a hash table.\n",
        "When you access an element by its key, Python computes the hash of the key and directly jumps to the memory location where the value is stored.\n",
        "\n",
        "* Average Case: ✅ O(1) → Constant time.\n",
        "This means no matter how large the dictionary is, accessing a value using its key usually takes the same amount of time.\n",
        "\n",
        "* Worst Case: ❌ O(n) → Linear time.\n",
        "This happens rarely, only when there are too many hash collisions (different keys getting the same hash value). In such cases, Python internally resolves the collisions (using techniques like open addressing), but performance can degrade."
      ],
      "metadata": {
        "id": "4uHL257wlsfa"
      }
    },
    {
      "cell_type": "markdown",
      "source": [
        "# **18. In what situations are lists preferred over dictionaries?**\n",
        "\n",
        "* When Order Matters:\n",
        "Lists maintain the order of elements, so they are ideal when sequence or position is important (e.g., processing tasks in order).\n",
        "\n",
        "* When Duplicates Are Allowed:\n",
        "Dictionaries don’t allow duplicate keys, but lists can store the same value multiple times (e.g., storing multiple exam scores).\n",
        "\n",
        "* When Data Doesn’t Need Key–Value Mapping:\n",
        "If you only need a simple collection of items without attaching labels or keys, a list is simpler and easier to use.\n",
        "\n",
        "* When Index-Based Access Is Needed:\n",
        "Lists allow accessing elements by their numeric index (e.g., my_list[0]), which is useful for ordered collections like arrays.\n",
        "\n",
        "* When Data Size Is Small or Iteration-Focused:\n",
        "For small collections or tasks like looping through elements, lists are lighter and more convenient than dictionaries."
      ],
      "metadata": {
        "id": "EclWbx-yl-85"
      }
    },
    {
      "cell_type": "markdown",
      "source": [
        "# **19. Why are dictionaries considered unordered, and how does that affect data retrieval?**\n",
        "\n",
        "* In Python (before version 3.7), dictionaries were truly unordered, meaning the order in which you inserted key–value pairs was not guaranteed when iterating. This is because dictionaries use a hash table internally, and the storage location of each key–value pair depends on the hash of the key, not the order of insertion.\n",
        "\n",
        "* From Python 3.7+, dictionaries do preserve insertion order as an implementation detail (and it became a language guarantee in Python 3.8). However, even though the order is preserved during iteration, dictionaries are still considered conceptually unordered collections, because their primary design is for fast key-based lookups rather than positional access.\n",
        "\n",
        "**How This Affects Data Retrieval**\n",
        "\n",
        "* You cannot rely on indexes like you can with lists (e.g., dict[0] doesn’t work).\n",
        "\n",
        "* You always retrieve values using their keys, not their position.\n",
        "\n",
        "* Iterating over a dictionary returns items in insertion order (in Python 3.7+), but you should not use a dictionary when your program depends on strict ordering — for that, a list or collections.OrderedDict (for older versions) is better."
      ],
      "metadata": {
        "id": "y9yuatZWmXkN"
      }
    },
    {
      "cell_type": "markdown",
      "source": [
        "# **20. Explain the difference between a list and a dictionary in terms of data retrieval.**\n",
        "\n",
        "* A list retrieves data based on its index, meaning you must know the position of an item to access it. For example, in a list of fruits, fruits[1] gives the second element. This works well when order matters, but searching for a value can be slower since Python may need to scan the entire list.\n",
        "\n",
        "* In contrast, a dictionary retrieves data using a key instead of a position. For instance, in a student record dictionary, using student[\"course\"] directly returns the course without needing to know its position. This makes dictionary lookups much faster on average because they use a hash table. In short, lists are position-based, while dictionaries are key-based, making dictionaries more efficient for quick data retrieval.\n"
      ],
      "metadata": {
        "id": "OmYhD4X9m1g1"
      }
    },
    {
      "cell_type": "markdown",
      "source": [
        "# **Practical Questions**"
      ],
      "metadata": {
        "id": "GpFkBz3boKB0"
      }
    },
    {
      "cell_type": "markdown",
      "source": [
        "# **1. Write a code to create a string with your name and print it.**"
      ],
      "metadata": {
        "id": "BUptxjJRob4a"
      }
    },
    {
      "cell_type": "code",
      "source": [
        "# Create a string with your name\n",
        "name = \"Kiran\"\n",
        "\n",
        "# Print the string\n",
        "print(name)"
      ],
      "metadata": {
        "colab": {
          "base_uri": "https://localhost:8080/"
        },
        "id": "huonYv8gojgo",
        "outputId": "9ba833e5-a3cc-4974-ad89-cd732b30753b"
      },
      "execution_count": 11,
      "outputs": [
        {
          "output_type": "stream",
          "name": "stdout",
          "text": [
            "Kiran\n"
          ]
        }
      ]
    },
    {
      "cell_type": "markdown",
      "source": [
        "# **2. Write a code to find the length of the string \"Hello World\".**"
      ],
      "metadata": {
        "id": "sQVf_0ZMos7u"
      }
    },
    {
      "cell_type": "code",
      "source": [
        "# Create a string\n",
        "text = \"Hello World\"\n",
        "\n",
        "# Find the length using len()\n",
        "length = len(text)\n",
        "\n",
        "# Print the length\n",
        "print(\"Length of the string:\", length)"
      ],
      "metadata": {
        "colab": {
          "base_uri": "https://localhost:8080/"
        },
        "id": "SdDIE6ZAoxlp",
        "outputId": "9e4ca051-a544-4054-f013-775b9391a930"
      },
      "execution_count": 12,
      "outputs": [
        {
          "output_type": "stream",
          "name": "stdout",
          "text": [
            "Length of the string: 11\n"
          ]
        }
      ]
    },
    {
      "cell_type": "markdown",
      "source": [
        "# **3. Write a code to slice the first 3 characters from the string \"Python Programming\".**"
      ],
      "metadata": {
        "id": "BDEOGUpWpETJ"
      }
    },
    {
      "cell_type": "code",
      "source": [
        "# Create a string\n",
        "text = \"Python Programming\"\n",
        "\n",
        "# Slice the first 3 characters\n",
        "sliced_text = text[:3]\n",
        "\n",
        "# Print the result\n",
        "print(sliced_text)"
      ],
      "metadata": {
        "colab": {
          "base_uri": "https://localhost:8080/"
        },
        "id": "fMSEL1jHpPPr",
        "outputId": "2436a815-9f18-4625-ed81-019262b42580"
      },
      "execution_count": 13,
      "outputs": [
        {
          "output_type": "stream",
          "name": "stdout",
          "text": [
            "Pyt\n"
          ]
        }
      ]
    },
    {
      "cell_type": "markdown",
      "source": [
        "# **4. Write a code to convert the string \"hello\" to uppercase.**"
      ],
      "metadata": {
        "id": "IhF_fGpupZ9u"
      }
    },
    {
      "cell_type": "code",
      "source": [
        "# Create a string\n",
        "text = \"hello\"\n",
        "\n",
        "# Convert to uppercase\n",
        "upper_text = text.upper()\n",
        "\n",
        "# Print the result\n",
        "print(upper_text)"
      ],
      "metadata": {
        "colab": {
          "base_uri": "https://localhost:8080/"
        },
        "id": "xFI-rG9jpnMW",
        "outputId": "6a6151af-f2af-4923-f8d9-de33805e0a54"
      },
      "execution_count": 14,
      "outputs": [
        {
          "output_type": "stream",
          "name": "stdout",
          "text": [
            "HELLO\n"
          ]
        }
      ]
    },
    {
      "cell_type": "markdown",
      "source": [
        "# **5. Write a code to replace the word \"apple\" with \"orange\" in the string \"I like apple\".**"
      ],
      "metadata": {
        "id": "boPuB2JKps3k"
      }
    },
    {
      "cell_type": "code",
      "source": [
        "# Create a string\n",
        "text = \"I like apple\"\n",
        "\n",
        "# Replace 'apple' with 'orange'\n",
        "new_text = text.replace(\"apple\", \"orange\")\n",
        "\n",
        "# Print the result\n",
        "print(new_text)"
      ],
      "metadata": {
        "colab": {
          "base_uri": "https://localhost:8080/"
        },
        "id": "gXgte5vip7EQ",
        "outputId": "f381714c-d601-4d6d-801c-a6d79942c199"
      },
      "execution_count": 15,
      "outputs": [
        {
          "output_type": "stream",
          "name": "stdout",
          "text": [
            "I like orange\n"
          ]
        }
      ]
    },
    {
      "cell_type": "markdown",
      "source": [
        "# **6.  Write a code to create a list with numbers 1 to 5 and print it.**"
      ],
      "metadata": {
        "id": "M5BSCNxgp9or"
      }
    },
    {
      "cell_type": "code",
      "source": [
        "# Create a list with numbers 1 to 5\n",
        "numbers = [1, 2, 3, 4, 5]\n",
        "\n",
        "# Print the list\n",
        "print(numbers)"
      ],
      "metadata": {
        "colab": {
          "base_uri": "https://localhost:8080/"
        },
        "id": "m2IhPoH3qI-O",
        "outputId": "94e21179-e644-48fd-dd0d-5ca46b60e7c5"
      },
      "execution_count": 16,
      "outputs": [
        {
          "output_type": "stream",
          "name": "stdout",
          "text": [
            "[1, 2, 3, 4, 5]\n"
          ]
        }
      ]
    },
    {
      "cell_type": "markdown",
      "source": [
        "# **7. Write a code to append the number 10 to the list [1, 2, 3, 4].**"
      ],
      "metadata": {
        "id": "ramoxxjoqKbq"
      }
    },
    {
      "cell_type": "code",
      "source": [
        "# Create a list\n",
        "numbers = [1, 2, 3, 4]\n",
        "\n",
        "# Append number 10\n",
        "numbers.append(10)\n",
        "\n",
        "# Print the updated list\n",
        "print(numbers)"
      ],
      "metadata": {
        "colab": {
          "base_uri": "https://localhost:8080/"
        },
        "id": "j8sHh-iVqTyu",
        "outputId": "d32aea44-0580-4d79-9d44-ed00a653ede2"
      },
      "execution_count": 17,
      "outputs": [
        {
          "output_type": "stream",
          "name": "stdout",
          "text": [
            "[1, 2, 3, 4, 10]\n"
          ]
        }
      ]
    },
    {
      "cell_type": "markdown",
      "source": [
        "# **8. Write a code to remove the number 3 from the list [1, 2, 3, 4, 5].**"
      ],
      "metadata": {
        "id": "xLBPqI8HqZtd"
      }
    },
    {
      "cell_type": "code",
      "source": [
        "# Create a list\n",
        "numbers = [1, 2, 3, 4, 5]\n",
        "\n",
        "# Remove the number 3\n",
        "numbers.remove(3)\n",
        "\n",
        "# Print the updated list\n",
        "print(numbers)"
      ],
      "metadata": {
        "colab": {
          "base_uri": "https://localhost:8080/"
        },
        "id": "E3CD0KOXqiDG",
        "outputId": "7d1fd368-0b25-4702-8c22-59ffc925c153"
      },
      "execution_count": 18,
      "outputs": [
        {
          "output_type": "stream",
          "name": "stdout",
          "text": [
            "[1, 2, 4, 5]\n"
          ]
        }
      ]
    },
    {
      "cell_type": "markdown",
      "source": [
        "# **9. Write a code to access the second element in the list ['a', 'b', 'c', 'd'].**"
      ],
      "metadata": {
        "id": "lbZBec5oquyv"
      }
    },
    {
      "cell_type": "code",
      "source": [
        "# Create a list\n",
        "my_list = ['a', 'b', 'c', 'd']\n",
        "\n",
        "# Access the second element (index 1)\n",
        "second_element = my_list[1]\n",
        "\n",
        "# Print the result\n",
        "print(second_element)"
      ],
      "metadata": {
        "colab": {
          "base_uri": "https://localhost:8080/"
        },
        "id": "JkmgtF4Nq07r",
        "outputId": "21028cb2-c7cf-4602-87cc-864738e7167d"
      },
      "execution_count": 19,
      "outputs": [
        {
          "output_type": "stream",
          "name": "stdout",
          "text": [
            "b\n"
          ]
        }
      ]
    },
    {
      "cell_type": "markdown",
      "source": [
        "# **10. Write a code to reverse the list [10, 20, 30, 40, 50].**"
      ],
      "metadata": {
        "id": "aj_uXqlTq5pz"
      }
    },
    {
      "cell_type": "code",
      "source": [
        "# Create a list\n",
        "numbers = [10, 20, 30, 40, 50]\n",
        "\n",
        "# Reverse the list\n",
        "numbers.reverse()\n",
        "\n",
        "# Print the updated list\n",
        "print(numbers)"
      ],
      "metadata": {
        "colab": {
          "base_uri": "https://localhost:8080/"
        },
        "id": "nxcjnNtIrCpN",
        "outputId": "d3d0c00c-89ef-416d-883c-24784a84a282"
      },
      "execution_count": 20,
      "outputs": [
        {
          "output_type": "stream",
          "name": "stdout",
          "text": [
            "[50, 40, 30, 20, 10]\n"
          ]
        }
      ]
    },
    {
      "cell_type": "markdown",
      "metadata": {
        "id": "ff7fb6e9"
      },
      "source": [
        "# **11. Write a code to create a tuple with the elements 100, 200, 300 and print it.**"
      ]
    },
    {
      "cell_type": "code",
      "metadata": {
        "colab": {
          "base_uri": "https://localhost:8080/"
        },
        "id": "fc313756",
        "outputId": "fa469a87-65d1-4475-c366-c9af5c1017a4"
      },
      "source": [
        "# Create a tuple\n",
        "my_tuple = (100, 200, 300)\n",
        "\n",
        "# Print the tuple\n",
        "print(my_tuple)"
      ],
      "execution_count": 25,
      "outputs": [
        {
          "output_type": "stream",
          "name": "stdout",
          "text": [
            "(100, 200, 300)\n"
          ]
        }
      ]
    },
    {
      "cell_type": "markdown",
      "metadata": {
        "id": "b60fe0bc"
      },
      "source": [
        "# **12. Write a code to access the second-to-last element of the tuple ('red', 'green', 'blue', 'yellow').**"
      ]
    },
    {
      "cell_type": "code",
      "metadata": {
        "colab": {
          "base_uri": "https://localhost:8080/"
        },
        "id": "bd7b0ddd",
        "outputId": "cabad3cc-e595-4bc3-dac3-36b19f4a9dd5"
      },
      "source": [
        "# Create a tuple\n",
        "my_tuple = ('red', 'green', 'blue', 'yellow')\n",
        "\n",
        "# Access the second-to-last element (index -2)\n",
        "second_to_last = my_tuple[-2]\n",
        "\n",
        "# Print the result\n",
        "print(second_to_last)"
      ],
      "execution_count": 26,
      "outputs": [
        {
          "output_type": "stream",
          "name": "stdout",
          "text": [
            "blue\n"
          ]
        }
      ]
    },
    {
      "cell_type": "markdown",
      "metadata": {
        "id": "79217f02"
      },
      "source": [
        "# **13. Write a code to find the minimum number in the tuple (10, 20, 5, 15).**"
      ]
    },
    {
      "cell_type": "code",
      "metadata": {
        "colab": {
          "base_uri": "https://localhost:8080/"
        },
        "id": "0b23012e",
        "outputId": "3ef912cf-b454-4df2-ecc2-3cd49cccfb64"
      },
      "source": [
        "# Create a tuple\n",
        "numbers = (10, 20, 5, 15)\n",
        "\n",
        "# Find the minimum number\n",
        "min_number = min(numbers)\n",
        "\n",
        "# Print the result\n",
        "print(min_number)"
      ],
      "execution_count": 27,
      "outputs": [
        {
          "output_type": "stream",
          "name": "stdout",
          "text": [
            "5\n"
          ]
        }
      ]
    },
    {
      "cell_type": "markdown",
      "metadata": {
        "id": "bfb99260"
      },
      "source": [
        "# **14. Write a code to find the index of the element \"cat\" in the tuple ('dog', 'cat', 'rabbit').**"
      ]
    },
    {
      "cell_type": "code",
      "metadata": {
        "colab": {
          "base_uri": "https://localhost:8080/"
        },
        "id": "ef622c9e",
        "outputId": "29aa3227-5da6-406a-d6e2-b3152d0171ea"
      },
      "source": [
        "# Create a tuple\n",
        "animals = ('dog', 'cat', 'rabbit')\n",
        "\n",
        "# Find the index of \"cat\"\n",
        "cat_index = animals.index(\"cat\")\n",
        "\n",
        "# Print the result\n",
        "print(cat_index)"
      ],
      "execution_count": 28,
      "outputs": [
        {
          "output_type": "stream",
          "name": "stdout",
          "text": [
            "1\n"
          ]
        }
      ]
    },
    {
      "cell_type": "markdown",
      "metadata": {
        "id": "7ecffbaf"
      },
      "source": [
        "# **15. Write a code to create a tuple containing three different fruits and check if \"kiwi\" is in it.**"
      ]
    },
    {
      "cell_type": "code",
      "metadata": {
        "colab": {
          "base_uri": "https://localhost:8080/"
        },
        "id": "39f63ccf",
        "outputId": "de7f49b3-3374-4321-f939-373f0c1bee10"
      },
      "source": [
        "# Create a tuple of fruits\n",
        "fruits = ('apple', 'banana', 'orange')\n",
        "\n",
        "# Check if \"kiwi\" is in the tuple\n",
        "is_kiwi_in_tuple = \"kiwi\" in fruits\n",
        "\n",
        "# Print the result\n",
        "print(is_kiwi_in_tuple)"
      ],
      "execution_count": 29,
      "outputs": [
        {
          "output_type": "stream",
          "name": "stdout",
          "text": [
            "False\n"
          ]
        }
      ]
    },
    {
      "cell_type": "markdown",
      "metadata": {
        "id": "ccbfa8e9"
      },
      "source": [
        "# **16. Write a code to create a set with the elements 'a', 'b', 'c' and print it.**"
      ]
    },
    {
      "cell_type": "code",
      "metadata": {
        "colab": {
          "base_uri": "https://localhost:8080/"
        },
        "id": "22db0e24",
        "outputId": "49a21e3f-d21a-47a1-9b49-e69ce819eb7c"
      },
      "source": [
        "# Create a set\n",
        "my_set = {'a', 'b', 'c'}\n",
        "\n",
        "# Print the set\n",
        "print(my_set)"
      ],
      "execution_count": 30,
      "outputs": [
        {
          "output_type": "stream",
          "name": "stdout",
          "text": [
            "{'b', 'a', 'c'}\n"
          ]
        }
      ]
    },
    {
      "cell_type": "markdown",
      "metadata": {
        "id": "bd00969c"
      },
      "source": [
        "# **17. Write a code to clear all elements from the set {1, 2, 3, 4, 5}.**"
      ]
    },
    {
      "cell_type": "code",
      "metadata": {
        "colab": {
          "base_uri": "https://localhost:8080/"
        },
        "id": "069933ba",
        "outputId": "485b3e54-920c-41d3-ee19-b1dcbf396f67"
      },
      "source": [
        "# Create a set\n",
        "my_set = {1, 2, 3, 4, 5}\n",
        "\n",
        "# Clear all elements\n",
        "my_set.clear()\n",
        "\n",
        "# Print the empty set\n",
        "print(my_set)"
      ],
      "execution_count": 31,
      "outputs": [
        {
          "output_type": "stream",
          "name": "stdout",
          "text": [
            "set()\n"
          ]
        }
      ]
    },
    {
      "cell_type": "markdown",
      "metadata": {
        "id": "4e62af82"
      },
      "source": [
        "# **18. Write a code to remove the element 4 from the set {1, 2, 3, 4}.**"
      ]
    },
    {
      "cell_type": "code",
      "metadata": {
        "colab": {
          "base_uri": "https://localhost:8080/"
        },
        "id": "3e38a8fa",
        "outputId": "d5f808fe-193c-453a-989f-c7e6987f7d67"
      },
      "source": [
        "# Create a set\n",
        "my_set = {1, 2, 3, 4}\n",
        "\n",
        "# Remove the element 4\n",
        "my_set.remove(4)\n",
        "\n",
        "# Print the updated set\n",
        "print(my_set)"
      ],
      "execution_count": 32,
      "outputs": [
        {
          "output_type": "stream",
          "name": "stdout",
          "text": [
            "{1, 2, 3}\n"
          ]
        }
      ]
    },
    {
      "cell_type": "markdown",
      "metadata": {
        "id": "c60c5d2d"
      },
      "source": [
        "# **19. Write a code to find the union of two sets {1, 2, 3} and {3, 4, 5}.**"
      ]
    },
    {
      "cell_type": "code",
      "metadata": {
        "colab": {
          "base_uri": "https://localhost:8080/"
        },
        "id": "471e2579",
        "outputId": "1aba31cd-4d63-4355-c7c6-4884efc085fa"
      },
      "source": [
        "# Create two sets\n",
        "set1 = {1, 2, 3}\n",
        "set2 = {3, 4, 5}\n",
        "\n",
        "# Find the union\n",
        "union_set = set1.union(set2)\n",
        "\n",
        "# Print the result\n",
        "print(union_set)"
      ],
      "execution_count": 33,
      "outputs": [
        {
          "output_type": "stream",
          "name": "stdout",
          "text": [
            "{1, 2, 3, 4, 5}\n"
          ]
        }
      ]
    },
    {
      "cell_type": "markdown",
      "metadata": {
        "id": "d0a8212a"
      },
      "source": [
        "# **20. Write a code to find the intersection of two sets {1, 2, 3} and {2, 3, 4}.**"
      ]
    },
    {
      "cell_type": "code",
      "metadata": {
        "colab": {
          "base_uri": "https://localhost:8080/"
        },
        "id": "5ebf84e5",
        "outputId": "76587d55-67d9-40ac-cf88-f595deadf83d"
      },
      "source": [
        "# Create two sets\n",
        "set1 = {1, 2, 3}\n",
        "set2 = {2, 3, 4}\n",
        "\n",
        "# Find the intersection\n",
        "intersection_set = set1.intersection(set2)\n",
        "\n",
        "# Print the result\n",
        "print(intersection_set)"
      ],
      "execution_count": 34,
      "outputs": [
        {
          "output_type": "stream",
          "name": "stdout",
          "text": [
            "{2, 3}\n"
          ]
        }
      ]
    },
    {
      "cell_type": "markdown",
      "metadata": {
        "id": "2728f65c"
      },
      "source": [
        "# **21. Write a code to create a dictionary with the keys \"name\", \"age\", and \"city\", and print it.**"
      ]
    },
    {
      "cell_type": "code",
      "metadata": {
        "colab": {
          "base_uri": "https://localhost:8080/"
        },
        "id": "b621ff4e",
        "outputId": "07f05d4a-90e5-490c-e681-c4cb191eb8fc"
      },
      "source": [
        "# Create a dictionary\n",
        "my_dict = {\"name\": \"John\", \"age\": 30, \"city\": \"New York\"}\n",
        "\n",
        "# Print the dictionary\n",
        "print(my_dict)"
      ],
      "execution_count": 35,
      "outputs": [
        {
          "output_type": "stream",
          "name": "stdout",
          "text": [
            "{'name': 'John', 'age': 30, 'city': 'New York'}\n"
          ]
        }
      ]
    },
    {
      "cell_type": "markdown",
      "metadata": {
        "id": "521e3159"
      },
      "source": [
        "# **22. Write a code to add a new key-value pair \"country\": \"USA\" to the dictionary {'name': 'John', 'age': 25}.**"
      ]
    },
    {
      "cell_type": "code",
      "metadata": {
        "colab": {
          "base_uri": "https://localhost:8080/"
        },
        "id": "eb5d6db7",
        "outputId": "c7380748-30a8-4a34-8004-561839e0df7d"
      },
      "source": [
        "# Create a dictionary\n",
        "my_dict = {'name': 'John', 'age': 25}\n",
        "\n",
        "# Add a new key-value pair\n",
        "my_dict[\"country\"] = \"USA\"\n",
        "\n",
        "# Print the updated dictionary\n",
        "print(my_dict)"
      ],
      "execution_count": 36,
      "outputs": [
        {
          "output_type": "stream",
          "name": "stdout",
          "text": [
            "{'name': 'John', 'age': 25, 'country': 'USA'}\n"
          ]
        }
      ]
    },
    {
      "cell_type": "markdown",
      "metadata": {
        "id": "710321d0"
      },
      "source": [
        "# **23. Write a code to access the value associated with the key \"name\" in the dictionary {'name': 'Alice', 'age': 30}.**"
      ]
    },
    {
      "cell_type": "code",
      "metadata": {
        "colab": {
          "base_uri": "https://localhost:8080/"
        },
        "id": "65330472",
        "outputId": "f86fe34b-284f-411a-dae7-2119337757e2"
      },
      "source": [
        "# Create a dictionary\n",
        "my_dict = {'name': 'Alice', 'age': 30}\n",
        "\n",
        "# Access the value for the key \"name\"\n",
        "name_value = my_dict[\"name\"]\n",
        "\n",
        "# Print the result\n",
        "print(name_value)"
      ],
      "execution_count": 37,
      "outputs": [
        {
          "output_type": "stream",
          "name": "stdout",
          "text": [
            "Alice\n"
          ]
        }
      ]
    },
    {
      "cell_type": "markdown",
      "metadata": {
        "id": "f83acb89"
      },
      "source": [
        "# **24. Write a code to remove the key \"age\" from the dictionary {'name': 'Bob', 'age': 22, 'city': 'New York'}.**"
      ]
    },
    {
      "cell_type": "code",
      "metadata": {
        "colab": {
          "base_uri": "https://localhost:8080/"
        },
        "id": "194e634e",
        "outputId": "86b37892-0023-4763-9eb3-253e692e3012"
      },
      "source": [
        "# Create a dictionary\n",
        "my_dict = {'name': 'Bob', 'age': 22, 'city': 'New York'}\n",
        "\n",
        "# Remove the key \"age\"\n",
        "del my_dict[\"age\"]\n",
        "\n",
        "# Print the updated dictionary\n",
        "print(my_dict)"
      ],
      "execution_count": 38,
      "outputs": [
        {
          "output_type": "stream",
          "name": "stdout",
          "text": [
            "{'name': 'Bob', 'city': 'New York'}\n"
          ]
        }
      ]
    },
    {
      "cell_type": "markdown",
      "metadata": {
        "id": "c7ea161f"
      },
      "source": [
        "# **25. Write a code to check if the key \"city\" exists in the dictionary {'name': 'Alice', 'city': 'Paris'}.**"
      ]
    },
    {
      "cell_type": "code",
      "metadata": {
        "colab": {
          "base_uri": "https://localhost:8080/"
        },
        "id": "60f43ce5",
        "outputId": "472370fd-dae3-4175-a025-a2b988979c0d"
      },
      "source": [
        "# Create a dictionary\n",
        "my_dict = {'name': 'Alice', 'city': 'Paris'}\n",
        "\n",
        "# Check if the key \"city\" exists\n",
        "has_city_key = \"city\" in my_dict\n",
        "\n",
        "# Print the result\n",
        "print(has_city_key)"
      ],
      "execution_count": 39,
      "outputs": [
        {
          "output_type": "stream",
          "name": "stdout",
          "text": [
            "True\n"
          ]
        }
      ]
    },
    {
      "cell_type": "markdown",
      "metadata": {
        "id": "d4d82e62"
      },
      "source": [
        "# **26. Write a code to create a list, a tuple, and a dictionary, and print them all.**"
      ]
    },
    {
      "cell_type": "code",
      "metadata": {
        "colab": {
          "base_uri": "https://localhost:8080/"
        },
        "id": "45d3f38c",
        "outputId": "e1925d4c-c62d-4aac-a4d1-b12dd3002724"
      },
      "source": [
        "# Create a list\n",
        "my_list = [1, 2, 3]\n",
        "\n",
        "# Create a tuple\n",
        "my_tuple = (4, 5, 6)\n",
        "\n",
        "# Create a dictionary\n",
        "my_dict = {\"a\": 7, \"b\": 8}\n",
        "\n",
        "# Print them all\n",
        "print(my_list)\n",
        "print(my_tuple)\n",
        "print(my_dict)"
      ],
      "execution_count": 40,
      "outputs": [
        {
          "output_type": "stream",
          "name": "stdout",
          "text": [
            "[1, 2, 3]\n",
            "(4, 5, 6)\n",
            "{'a': 7, 'b': 8}\n"
          ]
        }
      ]
    },
    {
      "cell_type": "markdown",
      "metadata": {
        "id": "37d8cb8b"
      },
      "source": [
        "# **27. Write a code to create a list of 5 random numbers between 1 and 100, sort it in ascending order, and print the result.**"
      ]
    },
    {
      "cell_type": "code",
      "metadata": {
        "colab": {
          "base_uri": "https://localhost:8080/"
        },
        "id": "30c4f058",
        "outputId": "9dfd5f4c-77d7-4e35-f8f5-89bc0f089a91"
      },
      "source": [
        "import random\n",
        "\n",
        "# Create a list of 5 random numbers\n",
        "random_numbers = [random.randint(1, 100) for _ in range(5)]\n",
        "\n",
        "# Sort the list in ascending order\n",
        "random_numbers.sort()\n",
        "\n",
        "# Print the result\n",
        "print(random_numbers)"
      ],
      "execution_count": 41,
      "outputs": [
        {
          "output_type": "stream",
          "name": "stdout",
          "text": [
            "[8, 28, 33, 47, 59]\n"
          ]
        }
      ]
    },
    {
      "cell_type": "markdown",
      "metadata": {
        "id": "6eb12159"
      },
      "source": [
        "# **28. Write a code to create a list with strings and print the element at the third index.**"
      ]
    },
    {
      "cell_type": "code",
      "metadata": {
        "colab": {
          "base_uri": "https://localhost:8080/"
        },
        "id": "274a785c",
        "outputId": "d8bb50a1-3163-40bd-8fde-41a82b76a996"
      },
      "source": [
        "# Create a list of strings\n",
        "my_list = [\"apple\", \"banana\", \"cherry\", \"date\", \"elderberry\"]\n",
        "\n",
        "# Print the element at the third index (index 2)\n",
        "print(my_list[2])"
      ],
      "execution_count": 42,
      "outputs": [
        {
          "output_type": "stream",
          "name": "stdout",
          "text": [
            "cherry\n"
          ]
        }
      ]
    },
    {
      "cell_type": "markdown",
      "metadata": {
        "id": "7e6910ad"
      },
      "source": [
        "# **29. Write a code to combine two dictionaries into one and print the result.**"
      ]
    },
    {
      "cell_type": "code",
      "metadata": {
        "colab": {
          "base_uri": "https://localhost:8080/"
        },
        "id": "12a41267",
        "outputId": "62a52e51-0f27-48c8-ef08-7bb4ccd2770f"
      },
      "source": [
        "# Create two dictionaries\n",
        "dict1 = {\"a\": 1, \"b\": 2}\n",
        "dict2 = {\"c\": 3, \"d\": 4}\n",
        "\n",
        "# Combine the dictionaries (using the update method)\n",
        "combined_dict = dict1.copy() # Create a copy to avoid modifying the original dict1\n",
        "combined_dict.update(dict2)\n",
        "\n",
        "\n",
        "# Print the result\n",
        "print(combined_dict)\n",
        "\n",
        "# Or using the unpacking operator (Python 3.5+)\n",
        "combined_dict_unpacked = {**dict1, **dict2}\n",
        "print(combined_dict_unpacked)"
      ],
      "execution_count": 43,
      "outputs": [
        {
          "output_type": "stream",
          "name": "stdout",
          "text": [
            "{'a': 1, 'b': 2, 'c': 3, 'd': 4}\n",
            "{'a': 1, 'b': 2, 'c': 3, 'd': 4}\n"
          ]
        }
      ]
    },
    {
      "cell_type": "markdown",
      "metadata": {
        "id": "28f4efb6"
      },
      "source": [
        "# **30. Write a code to convert a list of strings into a set.**"
      ]
    },
    {
      "cell_type": "code",
      "metadata": {
        "colab": {
          "base_uri": "https://localhost:8080/"
        },
        "id": "569f3fd9",
        "outputId": "17e0f4bd-0ded-4bd9-a130-908432136192"
      },
      "source": [
        "# Create a list of strings\n",
        "my_list = [\"apple\", \"banana\", \"cherry\", \"apple\", \"date\"]\n",
        "\n",
        "# Convert the list to a set\n",
        "my_set = set(my_list)\n",
        "\n",
        "# Print the set\n",
        "print(my_set)"
      ],
      "execution_count": 44,
      "outputs": [
        {
          "output_type": "stream",
          "name": "stdout",
          "text": [
            "{'banana', 'cherry', 'date', 'apple'}\n"
          ]
        }
      ]
    }
  ]
}